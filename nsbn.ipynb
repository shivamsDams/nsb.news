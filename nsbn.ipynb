{
 "cells": [
  {
   "cell_type": "markdown",
   "metadata": {},
   "source": [
    "### API THREADS"
   ]
  },
  {
   "cell_type": "code",
   "execution_count": null,
   "metadata": {},
   "outputs": [],
   "source": [
    "import webbrowser\n",
    "import requests"
   ]
  },
  {
   "cell_type": "code",
   "execution_count": null,
   "metadata": {},
   "outputs": [],
   "source": [
    "THREADS_REDIRECT_URI=\"https://shivamsdams.github.io/nsb.news/?callback=auth\"\n",
    "\n",
    "SCOPE=\"threads_basic,threads_content_publish\""
   ]
  },
  {
   "cell_type": "code",
   "execution_count": null,
   "metadata": {},
   "outputs": [],
   "source": [
    "url = \"https://threads.net/oauth/authorize\\\n",
    "?client_id=\" + str(THREADS_APP_ID) + \\\n",
    "\"&redirect_uri=\" + str(THREADS_REDIRECT_URI) +\\\n",
    "\"&scope=\" + str(SCOPE) +\\\n",
    "\"&response_type=code\""
   ]
  },
  {
   "cell_type": "code",
   "execution_count": null,
   "metadata": {},
   "outputs": [],
   "source": [
    "code = webbrowser.open(url)"
   ]
  },
  {
   "cell_type": "code",
   "execution_count": null,
   "metadata": {},
   "outputs": [],
   "source": []
  },
  {
   "cell_type": "code",
   "execution_count": null,
   "metadata": {},
   "outputs": [],
   "source": [
    "access_url = \"https://graph.threads.net/oauth/access_token\"\n",
    "data = {\n",
    "    \"client_id\": str(THREADS_APP_ID),\n",
    "    \"client_secret\": str(THREADS_API_SECRET),       # Replace with your actual client secret\n",
    "    \"grant_type\": \"authorization_code\",\n",
    "    \"redirect_uri\": str(THREADS_REDIRECT_URI),\n",
    "    \"code\": str(AUTHORISATION_CODE)            # Replace with the actual authorization code\n",
    "}"
   ]
  },
  {
   "cell_type": "code",
   "execution_count": null,
   "metadata": {},
   "outputs": [],
   "source": [
    "response = requests.post(access_url, data=data)"
   ]
  },
  {
   "cell_type": "code",
   "execution_count": null,
   "metadata": {},
   "outputs": [],
   "source": [
    "if response.status_code == 200:\n",
    "    json_data = response.json()\n",
    "    print(json_data)\n",
    "    ACCESS_TOKEN = json_data.get(\"access_token\")\n",
    "    USER_ID = json_data.get(\"user_id\")\n",
    "else:\n",
    "    print(\"Request failed with status code:\", response.status_code)\n",
    "    print(\"Response:\", response.text)"
   ]
  },
  {
   "cell_type": "code",
   "execution_count": null,
   "metadata": {},
   "outputs": [],
   "source": [
    "url = \"https://graph.threads.net/access_token\"\n",
    "params = {\n",
    "    \"grant_type\": \"th_exchange_token\",\n",
    "    \"client_secret\": str(THREADS_API_SECRET),            # Replace with your actual Threads app secret\n",
    "    \"access_token\": str(ACCESS_TOKEN)        # Replace with your short-lived access token\n",
    "}\n",
    "\n",
    "response = requests.get(url, params=params)"
   ]
  },
  {
   "cell_type": "code",
   "execution_count": null,
   "metadata": {},
   "outputs": [],
   "source": [
    "# Check if the response is successful and capture keys as variables\n",
    "if response.status_code == 200:\n",
    "    json_data = response.json()\n",
    "    \n",
    "    # Capture keys as variables\n",
    "    NEW_ACCESS_LOKEN = json_data.get(\"access_token\")\n",
    "    TOKEN_TYPE = json_data.get(\"token_type\")\n",
    "    EXPIRES_IN = json_data.get(\"expires_in\")\n",
    "    \n",
    "    # Print the variables\n",
    "    print(\"New Access Token:\", NEW_ACCESS_LOKEN)\n",
    "    print(\"Token Type:\", TOKEN_TYPE)\n",
    "    print(\"Expires In:\", EXPIRES_IN)\n",
    "else:\n",
    "    print(\"Request failed with status code:\", response.status_code)\n",
    "    print(\"Response:\", response.text)"
   ]
  },
  {
   "cell_type": "code",
   "execution_count": null,
   "metadata": {},
   "outputs": [],
   "source": [
    "NEWS = \"Ukraine's 32-Drone Moscow Tour: Just Your Casual Monday Morning Airshow \\\n",
    "\\n Oh, look, Ukraine's back at it again, launching 32 drones at Moscow. Just your \\\n",
    "    average Monday morning in a conflict that has completely redefined the concept of 'remote work.' \\\n",
    "        \"\n",
    "\n",
    "url = \"https://graph.threads.net/v1.0/\" + str(USER_ID) + \"/threads\"\n",
    "params = {\n",
    "    \"media_type\": \"TEXT\",\n",
    "    \"text\": str(NEWS),\n",
    "    \"access_token\": str(NEW_ACCESS_LOKEN)    # Replace with your actual access token\n",
    "}\n",
    "response = requests.post(url, params=params)\n",
    "\n",
    "# Check if the response is successful and capture container_id\n",
    "if response.status_code == 200:\n",
    "    json_data = response.json()\n",
    "    \n",
    "    # Capture the container ID\n",
    "    CONTAINER_ID = json_data.get(\"id\")\n",
    "    \n",
    "    # Print the container ID\n",
    "    print(\"Container ID:\", CONTAINER_ID)\n",
    "else:\n",
    "    print(\"Request failed with status code:\", response.status_code)\n",
    "    print(\"Response:\", response.text)"
   ]
  },
  {
   "cell_type": "code",
   "execution_count": null,
   "metadata": {},
   "outputs": [],
   "source": [
    "url = \"https://graph.threads.net/v1.0/\" + str(USER_ID) + \"/threads_publish\"\n",
    "params = {\n",
    "    \"creation_id\": str(CONTAINER_ID),     # Replace with the actual media container ID\n",
    "    \"access_token\": str(NEW_ACCESS_LOKEN)           # Replace with your actual access token\n",
    "}\n",
    "\n",
    "response = requests.post(url, params=params)\n",
    "\n",
    "if response.status_code == 200:\n",
    "    json_data = response.json()\n",
    "    \n",
    "    # Print the full JSON response, or capture specific keys if needed\n",
    "    print(\"Response:\", json_data)\n",
    "else:\n",
    "    print(\"Request failed with status code:\", response.status_code)\n",
    "    print(\"Response:\", response.text)"
   ]
  },
  {
   "cell_type": "markdown",
   "metadata": {},
   "source": [
    "## API CHATGPT"
   ]
  },
  {
   "cell_type": "code",
   "execution_count": 15,
   "metadata": {},
   "outputs": [],
   "source": [
    "import openai\n",
    "import requests"
   ]
  },
  {
   "cell_type": "code",
   "execution_count": null,
   "metadata": {},
   "outputs": [],
   "source": [
    "\n"
   ]
  },
  {
   "cell_type": "code",
   "execution_count": 27,
   "metadata": {},
   "outputs": [],
   "source": [
    "openai.my_api_key = OI_API_KEY"
   ]
  },
  {
   "cell_type": "code",
   "execution_count": 17,
   "metadata": {},
   "outputs": [
    {
     "ename": "NameError",
     "evalue": "name 'OpenAI' is not defined",
     "output_type": "error",
     "traceback": [
      "\u001b[0;31m---------------------------------------------------------------------------\u001b[0m",
      "\u001b[0;31mNameError\u001b[0m                                 Traceback (most recent call last)",
      "Cell \u001b[0;32mIn[17], line 1\u001b[0m\n\u001b[0;32m----> 1\u001b[0m client \u001b[38;5;241m=\u001b[39m \u001b[43mOpenAI\u001b[49m(\n\u001b[1;32m      2\u001b[0m   api_key\u001b[38;5;241m=\u001b[39mOI_API_KEY,\n\u001b[1;32m      3\u001b[0m   organization\u001b[38;5;241m=\u001b[39mORG_ID,\n\u001b[1;32m      4\u001b[0m   project\u001b[38;5;241m=\u001b[39mPROJECT_ID\n\u001b[1;32m      5\u001b[0m )\n",
      "\u001b[0;31mNameError\u001b[0m: name 'OpenAI' is not defined"
     ]
    }
   ],
   "source": [
    "client = OpenAI(\n",
    "  api_key=OI_API_KEY,\n",
    "  organization=ORG_ID,\n",
    "  project=PROJECT_ID\n",
    ")"
   ]
  },
  {
   "cell_type": "code",
   "execution_count": 31,
   "metadata": {},
   "outputs": [],
   "source": [
    "messages = [ {\"role\": \"user\", \"content\": \"what is the DAte today? take the best news from this and create a new headLine \\\n",
    "               to avoid copywrite and create short news from this with maximum 1000 words. the news has to be catchy\"} ]\n",
    "\n",
    "response = requests.post(\n",
    "    API_URL,\n",
    "    headers={\"Authorization\": f\"Bearer {OI_API_KEY}\"},\n",
    "    json={\n",
    "            \"model\": \"gpt-3.5-turbo\",\n",
    "            \"messages\": messages\n",
    "        },\n",
    "    )\n",
    "chat_response = response.json()\n"
   ]
  },
  {
   "cell_type": "code",
   "execution_count": 32,
   "metadata": {},
   "outputs": [
    {
     "ename": "KeyError",
     "evalue": "'choices'",
     "output_type": "error",
     "traceback": [
      "\u001b[0;31m---------------------------------------------------------------------------\u001b[0m",
      "\u001b[0;31mKeyError\u001b[0m                                  Traceback (most recent call last)",
      "Cell \u001b[0;32mIn[32], line 1\u001b[0m\n\u001b[0;32m----> 1\u001b[0m \u001b[38;5;28mprint\u001b[39m(\u001b[43mchat_response\u001b[49m\u001b[43m[\u001b[49m\u001b[38;5;124;43m'\u001b[39;49m\u001b[38;5;124;43mchoices\u001b[39;49m\u001b[38;5;124;43m'\u001b[39;49m\u001b[43m]\u001b[49m[\u001b[38;5;241m0\u001b[39m][\u001b[38;5;124m'\u001b[39m\u001b[38;5;124mmessage\u001b[39m\u001b[38;5;124m'\u001b[39m][\u001b[38;5;124m'\u001b[39m\u001b[38;5;124mcontent\u001b[39m\u001b[38;5;124m'\u001b[39m])\n",
      "\u001b[0;31mKeyError\u001b[0m: 'choices'"
     ]
    }
   ],
   "source": [
    "print(chat_response['choices'][0]['message']['content'])"
   ]
  },
  {
   "cell_type": "code",
   "execution_count": 33,
   "metadata": {},
   "outputs": [
    {
     "data": {
      "text/plain": [
       "{'error': {'message': 'You exceeded your current quota, please check your plan and billing details. For more information on this error, read the docs: https://platform.openai.com/docs/guides/error-codes/api-errors.',\n",
       "  'type': 'insufficient_quota',\n",
       "  'param': None,\n",
       "  'code': 'insufficient_quota'}}"
      ]
     },
     "execution_count": 33,
     "metadata": {},
     "output_type": "execute_result"
    }
   ],
   "source": [
    "chat_response"
   ]
  },
  {
   "cell_type": "code",
   "execution_count": 1,
   "metadata": {},
   "outputs": [],
   "source": [
    "from dotenv import load_dotenv\n",
    "import os\n",
    "\n",
    "# Load environment variables\n",
    "load_dotenv()\n",
    "\n",
    "THREADS_APP_ID = os.getenv(\"THREADS_APP_ID\")\n",
    "THREADS_API_SECRET = os.getenv(\"THREADS_API_SECRET\")\n",
    "THREADS_REDIRECT_URI = os.getenv(\"THREADS_REDIRECT_URI\")\n",
    "THREADS_SCOPE = os.getenv(\"THREADS_SCOPE\")\n"
   ]
  },
  {
   "cell_type": "code",
   "execution_count": null,
   "metadata": {},
   "outputs": [],
   "source": []
  },
  {
   "cell_type": "code",
   "execution_count": null,
   "metadata": {},
   "outputs": [
    {
     "name": "stdout",
     "output_type": "stream",
     "text": [
      " * Serving Flask app 'threads_api'\n",
      " * Debug mode: off\n",
      "Please authorize the app in the browser.\n"
     ]
    },
    {
     "name": "stderr",
     "output_type": "stream",
     "text": [
      "Address already in use\n",
      "Port 5000 is in use by another program. Either identify and stop that program, or start the server with a different port.\n"
     ]
    },
    {
     "ename": "KeyboardInterrupt",
     "evalue": "",
     "output_type": "error",
     "traceback": [
      "\u001b[0;31m---------------------------------------------------------------------------\u001b[0m",
      "\u001b[0;31mKeyboardInterrupt\u001b[0m                         Traceback (most recent call last)",
      "Cell \u001b[0;32mIn[13], line 2\u001b[0m\n\u001b[1;32m      1\u001b[0m threads_api \u001b[38;5;241m=\u001b[39m ThreadsAPI()\n\u001b[0;32m----> 2\u001b[0m authorization_code \u001b[38;5;241m=\u001b[39m \u001b[43mthreads_api\u001b[49m\u001b[38;5;241;43m.\u001b[39;49m\u001b[43mget_authorization_code\u001b[49m\u001b[43m(\u001b[49m\u001b[43m)\u001b[49m\n\u001b[1;32m      3\u001b[0m threads_api\u001b[38;5;241m.\u001b[39mexchange_authorization_code()\n\u001b[1;32m      4\u001b[0m threads_api\u001b[38;5;241m.\u001b[39mget_long_term_token()\n",
      "File \u001b[0;32m/workspaces/nsb.news/threads_api.py:49\u001b[0m, in \u001b[0;36mThreadsAPI.get_authorization_code\u001b[0;34m(self)\u001b[0m\n\u001b[1;32m     46\u001b[0m \u001b[38;5;28mprint\u001b[39m(\u001b[38;5;124m\"\u001b[39m\u001b[38;5;124mPlease authorize the app in the browser.\u001b[39m\u001b[38;5;124m\"\u001b[39m)\n\u001b[1;32m     48\u001b[0m \u001b[38;5;66;03m# Wait until the authorization code is captured\u001b[39;00m\n\u001b[0;32m---> 49\u001b[0m \u001b[38;5;28;01mwhile\u001b[39;00m \u001b[38;5;129;01mnot\u001b[39;00m \u001b[38;5;28mself\u001b[39m\u001b[38;5;241m.\u001b[39mauthorization_code:\n\u001b[1;32m     50\u001b[0m     \u001b[38;5;28;01mpass\u001b[39;00m  \u001b[38;5;66;03m# Busy wait until the code is captured\u001b[39;00m\n\u001b[1;32m     52\u001b[0m \u001b[38;5;28;01mreturn\u001b[39;00m \u001b[38;5;28mself\u001b[39m\u001b[38;5;241m.\u001b[39mauthorization_code\n",
      "\u001b[0;31mKeyboardInterrupt\u001b[0m: "
     ]
    }
   ],
   "source": []
  },
  {
   "cell_type": "markdown",
   "metadata": {},
   "source": [
    "print(THREADS_SCOPE)"
   ]
  },
  {
   "cell_type": "markdown",
   "metadata": {},
   "source": []
  }
 ],
 "metadata": {
  "kernelspec": {
   "display_name": "Python 3",
   "language": "python",
   "name": "python3"
  },
  "language_info": {
   "codemirror_mode": {
    "name": "ipython",
    "version": 3
   },
   "file_extension": ".py",
   "mimetype": "text/x-python",
   "name": "python",
   "nbconvert_exporter": "python",
   "pygments_lexer": "ipython3",
   "version": "3.12.1"
  }
 },
 "nbformat": 4,
 "nbformat_minor": 2
}
